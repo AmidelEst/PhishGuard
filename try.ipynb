{
 "cells": [
  {
   "cell_type": "code",
   "execution_count": 8,
   "id": "b33b9af0-89de-46c7-9509-01243c96e687",
   "metadata": {},
   "outputs": [
    {
     "name": "stdout",
     "output_type": "stream",
     "text": [
      "Jaccard Similarity: 0.9765625\n"
     ]
    }
   ],
   "source": [
    "from datasketch import MinHash\n",
    "\n",
    "def create_minhash_signature(text, num_perm=128):\n",
    "    minhash = MinHash(num_perm=num_perm)\n",
    "    for word in text:\n",
    "        minhash.update(word.encode('utf-8'))\n",
    "    return minhash\n",
    "\n",
    "def compute_jaccard_similarity(minhash1, minhash2):\n",
    "    return minhash1.jaccard(minhash2)\n",
    "\n",
    "def compare_text_files(file1_path, file2_path):\n",
    "    # Read and preprocess text from files\n",
    "    text1 = preprocess_text(read_file(file1_path))\n",
    "    text2 = preprocess_text(read_file(file2_path))\n",
    "\n",
    "    # Create MinHash signatures\n",
    "    minhash1 = create_minhash_signature(text1)\n",
    "    minhash2 = create_minhash_signature(text2)\n",
    "\n",
    "    # Compute Jaccard similarity\n",
    "    similarity = compute_jaccard_similarity(minhash1, minhash2)\n",
    "\n",
    "    return similarity\n",
    "\n",
    "def read_file(file_path):\n",
    "    with open(file_path, 'r', encoding='utf-8') as file:\n",
    "        return file.read()\n",
    "\n",
    "def preprocess_text(text):\n",
    "    # Add your text preprocessing steps here\n",
    "    # Tokenization, removing stop words, etc.\n",
    "    return tokenize_and_remove_stopwords(text)\n",
    "\n",
    "def tokenize_and_remove_stopwords(text):\n",
    "    # Add your tokenization and stop word removal logic here\n",
    "    # This can be done using libraries like NLTK or spaCy\n",
    "    # For simplicity, you can split the text into words here\n",
    "    return text.split()\n",
    "\n",
    "# Example usage\n",
    "file1_path = 'chat.openai.com_certificate_info.txt'\n",
    "file2_path = 'certificate.txt'\n",
    "similarity = compare_text_files(file1_path, file2_path)\n",
    "print(f\"Jaccard Similarity: {similarity}\")\n"
   ]
  },
  {
   "cell_type": "code",
   "execution_count": null,
   "id": "34d3a795-99a1-4b7c-9e14-4833c2914978",
   "metadata": {},
   "outputs": [],
   "source": []
  }
 ],
 "metadata": {
  "kernelspec": {
   "display_name": "Python 3 (ipykernel)",
   "language": "python",
   "name": "python3"
  },
  "language_info": {
   "codemirror_mode": {
    "name": "ipython",
    "version": 3
   },
   "file_extension": ".py",
   "mimetype": "text/x-python",
   "name": "python",
   "nbconvert_exporter": "python",
   "pygments_lexer": "ipython3",
   "version": "3.9.13"
  }
 },
 "nbformat": 4,
 "nbformat_minor": 5
}
